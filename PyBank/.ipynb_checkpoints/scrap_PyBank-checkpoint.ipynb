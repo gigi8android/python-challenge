{
 "cells": [
  {
   "cell_type": "code",
   "execution_count": 259,
   "id": "e177c78c-37d4-4cb2-8b98-e81432ee9bcc",
   "metadata": {
    "scrolled": true,
    "tags": []
   },
   "outputs": [],
   "source": [
    "# First we'll import the os module\n",
    "# This will allow us to create file paths across operating systems\n",
    "import os\n",
    "\n",
    "# Module for reading CSV files\n",
    "import csv\n",
    "\n",
    "csvpath = os.path.join('Resources', 'budget_data.csv')\n"
   ]
  },
  {
   "cell_type": "code",
   "execution_count": 260,
   "id": "604f7368-e5ce-4015-99d4-d6c0b8a50cc3",
   "metadata": {},
   "outputs": [
    {
     "name": "stdout",
     "output_type": "stream",
     "text": [
      "\n",
      "\n",
      "Financial Analysis\n",
      "----------------------------\n",
      "Total Months: 86\n",
      "Total: $38382578\n",
      "Average Change: $-2315.12\n",
      "Greatest Increase in Profit: Feb-2012 ($1926159) \n",
      "Greatest Decrease in Profit: Sep-2013 ($-2196167) \n"
     ]
    }
   ],
   "source": [
    "with open(csvpath) as budget_data_file:\n",
    "\n",
    "    # CSV reader specifies delimiter and variable that holds contents\n",
    "    csvreader = csv.reader(budget_data_file, delimiter=',')\n",
    "\n",
    "    # Read the header row first (skip this step if there is now header)\n",
    "    csv_header = next(csvreader)\n",
    "\n",
    "\n",
    "    #initialise variables\n",
    "    month_count = 0\n",
    "    total_revenue = 0\n",
    "    revenue_prev = 0\n",
    "    revenue_change_list = []\n",
    "    month_change_list = []\n",
    "\n",
    "    \n",
    "    # Read each row of data after the header\n",
    "    for row in csvreader:\n",
    "        #print(row)\n",
    "\n",
    "        #calculation\n",
    "        month_count += 1\n",
    "        total_revenue += int(row[1])\n",
    "        \n",
    "        #initialise variables and starts working on the second row of data for calculating the revenue changes\n",
    "        if revenue_prev == 0:\n",
    "            revenue_diff = revenue_diff_total = revenue_diff_count = 0\n",
    "            \n",
    "        elif revenue_prev != 0:\n",
    "            revenue_diff = int(row[1]) - revenue_prev\n",
    "            revenue_diff_count += 1\n",
    "            revenue_diff_total += revenue_diff\n",
    "                       \n",
    "            # store revenue_diff and month_of_change into lists\n",
    "            revenue_change_list = revenue_change_list + [revenue_diff]\n",
    "            month_change_list = month_change_list + [row[0]]\n",
    "            \n",
    "            # zip merge lists together to form dictionary\n",
    "            merged_list_dict = dict(zip(month_change_list, revenue_change_list))\n",
    "       \n",
    "        #set current row value to revenue_prev\n",
    "        revenue_prev = int(row[1])\n",
    "    \n",
    "#get month of the greatest increase in profits\n",
    "max_rev_mth = max(merged_list_dict, key = merged_list_dict.get)\n",
    "#get month of the greatest decrease in profits\n",
    "min_rev_mth = min(merged_list_dict, key = merged_list_dict.get)\n",
    "\n",
    "\n",
    "#calculate average revenue changes\n",
    "ave_diff = revenue_diff_total/(revenue_diff_count)\n",
    "\n",
    "#open and write to output text file\n",
    "with open('analysis/Summary.txt', \"w\") as text_file:\n",
    "    text_file.writelines(\"Financial Analysis\\n\")\n",
    "    text_file.writelines(\"----------------------------\\n\")\n",
    "    text_file.writelines(\"\\nTotal Months: %s\" % month_count)\n",
    "    text_file.writelines(\"\\nTotal: %s\" % \"${:}\".format(total_revenue))\n",
    "    text_file.writelines(\"\\nAverage Change: %s\" % \"${:.2f}\".format(ave_diff))\n",
    "    text_file.writelines(\"\\nGreatest Increase in Profit: %s ($%s)\" % (max_rev_mth, max(revenue_change_list)))\n",
    "    text_file.writelines(\"\\nGreatest Decrease in Profit: %s ($%s)\" % (min_rev_mth,min(revenue_change_list)))\n",
    "    text_file.close()\n",
    "\n",
    "#print summary on the console\n",
    "print(\"\\n\")\n",
    "print(f\"Financial Analysis\")\n",
    "print(f\"----------------------------\")\n",
    "print(f\"Total Months: \" + str(month_count))\n",
    "print(f\"Total: \" + \"${:}\".format(total_revenue))\n",
    "print(f\"Average Change: \" + \"${:.2f}\".format(ave_diff))\n",
    "print(f\"Greatest Increase in Profit: \" + max_rev_mth + \" (\" + \"${:}\".format(max(revenue_change_list)) + \") \")\n",
    "print(f\"Greatest Decrease in Profit: \" + min_rev_mth + \" (\" + \"${:}\".format(min(revenue_change_list)) + \") \")\n"
   ]
  },
  {
   "cell_type": "code",
   "execution_count": null,
   "id": "931a1ff3-ee09-4745-aaa8-524e898cdefc",
   "metadata": {},
   "outputs": [],
   "source": []
  },
  {
   "cell_type": "code",
   "execution_count": null,
   "id": "e4e3778a-5ae9-4caf-926b-03a9906adf2f",
   "metadata": {},
   "outputs": [],
   "source": []
  },
  {
   "cell_type": "code",
   "execution_count": null,
   "id": "f4dde126-37eb-4b82-86ea-d0bbb6102b1a",
   "metadata": {},
   "outputs": [],
   "source": []
  }
 ],
 "metadata": {
  "kernelspec": {
   "display_name": "Python 3 (ipykernel)",
   "language": "python",
   "name": "python3"
  },
  "language_info": {
   "codemirror_mode": {
    "name": "ipython",
    "version": 3
   },
   "file_extension": ".py",
   "mimetype": "text/x-python",
   "name": "python",
   "nbconvert_exporter": "python",
   "pygments_lexer": "ipython3",
   "version": "3.9.7"
  }
 },
 "nbformat": 4,
 "nbformat_minor": 5
}
